{
 "cells": [
  {
   "cell_type": "code",
   "execution_count": 1,
   "id": "c0b04b63",
   "metadata": {},
   "outputs": [],
   "source": [
    "from PIL import Image\n",
    "import os\n",
    "\n",
    "def create_blank_image(n,m, folder_path, file_name=\"blank_map.png\"):\n",
    "    os.makedirs(folder_path, exist_ok=True)\n",
    "    image = Image.new(\"RGB\", (n, m), color=(255, 255, 255))  # white background\n",
    "    \n",
    "    file_path = os.path.join(folder_path, file_name)\n",
    "    image.save(file_path)\n",
    "    \n",
    "    print(f\"Blank image saved at {file_path}\")\n",
    "\n",
    "# Example usage:\n",
    "# create_blank_image(2000,2000, \"/mnt/Personal/Projects/Micromouse/Playground/map_images\",file_name=\"blank_map.png\")\n"
   ]
  },
  {
   "cell_type": "code",
   "execution_count": 2,
   "id": "92b28ee3",
   "metadata": {},
   "outputs": [],
   "source": [
    "# image_name =\"random_squid.png\"\n",
    "image_name =\"test.png\""
   ]
  },
  {
   "cell_type": "code",
   "execution_count": 3,
   "id": "dfbc0861",
   "metadata": {},
   "outputs": [
    {
     "name": "stdout",
     "output_type": "stream",
     "text": [
      "Image size: 180 x 180\n",
      "Unique colors and their labels:\n",
      "Label 0: RGB (0, 0, 0)\n",
      "Label 1: RGB (0, 38, 255)\n",
      "Label 2: RGB (255, 0, 0)\n",
      "Label 3: RGB (255, 255, 255)\n"
     ]
    }
   ],
   "source": [
    "from PIL import Image\n",
    "import numpy as np\n",
    "\n",
    "def process_image(image_path):\n",
    "    # Open image\n",
    "    img = Image.open(image_path).convert(\"RGB\")\n",
    "    width, height = img.size\n",
    "    print(f\"Image size: {width} x {height}\")\n",
    "    \n",
    "    # Convert image to numpy array\n",
    "    img_array = np.array(img)\n",
    "    \n",
    "    # Reshape to a list of RGB tuples\n",
    "    pixels = img_array.reshape(-1, 3)\n",
    "    \n",
    "    # Find unique colors\n",
    "    unique_colors, indices = np.unique(pixels, axis=0, return_inverse=True)\n",
    "    \n",
    "    # Display unique colors with labels\n",
    "    print(\"Unique colors and their labels:\")\n",
    "    for idx, color in enumerate(unique_colors):\n",
    "        print(f\"Label {idx}: RGB {tuple(color)}\")\n",
    "    \n",
    "    # Map to labels\n",
    "    label_matrix = indices.reshape(img_array.shape[:2])\n",
    "    \n",
    "\n",
    "# Example usage\n",
    "process_image(\"/mnt/Personal/Projects/Micromouse/Playground/map_images/\"+image_name)\n",
    "\n",
    "\n"
   ]
  },
  {
   "cell_type": "code",
   "execution_count": 4,
   "id": "4d119a37",
   "metadata": {},
   "outputs": [
    {
     "name": "stdout",
     "output_type": "stream",
     "text": [
      "Image size: 180 x 180\n",
      "Isolated points (with exactly 1 same neighbor): [(127, 143), (153, 148), (162, 20), (173, 40)]\n",
      "Final label matrix:\n"
     ]
    }
   ],
   "source": [
    "from PIL import Image\n",
    "import numpy as np\n",
    "\n",
    "def process_and_find_isolated(image_path, color0, color1, color2, color3):\n",
    "    # Open and convert image\n",
    "    img = Image.open(image_path).convert(\"RGB\")\n",
    "    width, height = img.size\n",
    "    print(f\"Image size: {width} x {height}\")\n",
    "\n",
    "    img_array = np.array(img)\n",
    "    label_matrix = np.full((height, width), 3, dtype=np.uint8)\n",
    "\n",
    "    # Assign labels\n",
    "    mask0 = np.all(img_array == color0, axis=2)\n",
    "    mask1 = np.all(img_array == color1, axis=2)\n",
    "    mask2 = np.all(img_array == color2, axis=2)\n",
    "    mask3 = np.all(img_array == color3, axis=2)\n",
    "\n",
    "    label_matrix[mask0] = 0\n",
    "    label_matrix[mask1] = 1\n",
    "    label_matrix[mask2] = 2\n",
    "    label_matrix[mask3] = 3\n",
    "\n",
    "    # Find and print isolated points\n",
    "    isolated_points = []\n",
    "\n",
    "    for i in range(height):\n",
    "        for j in range(width):\n",
    "            val = label_matrix[i, j]\n",
    "            if val in (0, 1, 2):\n",
    "                count_same = 0\n",
    "                # Check 8 neighbors\n",
    "                for di in [-1, 0, 1]:\n",
    "                    for dj in [-1, 0, 1]:\n",
    "                        if di == 0 and dj == 0:\n",
    "                            continue\n",
    "                        ni, nj = i + di, j + dj\n",
    "                        if 0 <= ni < height and 0 <= nj < width:\n",
    "                            if label_matrix[ni, nj] == val:\n",
    "                                count_same += 1\n",
    "                if count_same == 1:\n",
    "                    isolated_points.append((i, j))\n",
    "\n",
    "    print(f\"Isolated points (with exactly 1 same neighbor): {isolated_points}\")\n",
    "    return label_matrix, isolated_points\n",
    "\n",
    "# Example usage\n",
    "matrix, points = process_and_find_isolated(\n",
    "    \"/mnt/Personal/Projects/Micromouse/Playground/map_images/\"+image_name,\n",
    "    color0=(0, 0, 0),    # black\n",
    "    color1=(255, 0, 0),    \n",
    "    color2=(0, 38, 255),     \n",
    "    color3=(255, 255, 255)     # white\n",
    ")\n",
    "\n",
    "print(\"Final label matrix:\")\n",
    "\n",
    "matrix = matrix[::-1].T\n",
    "\n",
    "\n"
   ]
  },
  {
   "cell_type": "code",
   "execution_count": 5,
   "id": "84bf6db4",
   "metadata": {},
   "outputs": [
    {
     "data": {
      "image/png": "[encoded data removed]",
      "text/plain": [
       "<Figure size 600x600 with 1 Axes>"
      ]
     },
     "metadata": {},
     "output_type": "display_data"
    }
   ],
   "source": [
    "import matplotlib.pyplot as plt\n",
    "import numpy as np\n",
    "\n",
    "def display_matrix_with_colors(matrix):\n",
    "    # Create a color map: 0 -> red, 1 -> white, 2 -> white, 3 -> black\n",
    "    color_map = {\n",
    "        0: [1, 0, 0],      # red\n",
    "        1: [1, 1, 1],      # white\n",
    "        2: [1, 1, 1],      # white\n",
    "        3: [0, 0, 0],      # black\n",
    "    }\n",
    "\n",
    "    # Create RGB image array\n",
    "    height, width = matrix.shape\n",
    "    rgb_image = np.zeros((height, width, 3))\n",
    "\n",
    "    for value, color in color_map.items():\n",
    "        mask = (matrix == value)\n",
    "        rgb_image[mask] = color\n",
    "\n",
    "    # Display the image\n",
    "    plt.figure(figsize=(6, 6))\n",
    "    plt.imshow(rgb_image, interpolation='nearest')\n",
    "    plt.axis('off')\n",
    "    plt.show()\n",
    "\n",
    "display_matrix_with_colors(matrix)\n"
   ]
  },
  {
   "cell_type": "code",
   "execution_count": 6,
   "id": "947a325d",
   "metadata": {},
   "outputs": [],
   "source": [
    "import numpy as np\n",
    "\n",
    "def invert_zero_one(matrix,replacer):\n",
    "    matrix = np.array(matrix)\n",
    "    # Create new matrix: where original is 0 -> 1, else -> 0\n",
    "    new_matrix = np.where(matrix == replacer, 1, 0)\n",
    "    return new_matrix\n",
    "\n",
    "path_shape = matrix.shape\n",
    "path_0 = invert_zero_one(matrix,replacer=0)\n",
    "path_1 = invert_zero_one(matrix,replacer=1)\n",
    "path_2 = invert_zero_one(matrix,replacer=2)\n"
   ]
  },
  {
   "cell_type": "code",
   "execution_count": 7,
   "id": "a4e2afd5",
   "metadata": {},
   "outputs": [
    {
     "data": {
      "image/png": "[encoded data removed]",
      "text/plain": [
       "<Figure size 600x600 with 1 Axes>"
      ]
     },
     "metadata": {},
     "output_type": "display_data"
    },
    {
     "name": "stdout",
     "output_type": "stream",
     "text": [
      "No suitable starting point found.\n"
     ]
    },
    {
     "data": {
      "image/png": "[encoded data removed]",
      "text/plain": [
       "<Figure size 600x600 with 1 Axes>"
      ]
     },
     "metadata": {},
     "output_type": "display_data"
    }
   ],
   "source": [
    "import numpy as np\n",
    "import matplotlib.pyplot as plt\n",
    "\n",
    "def find_path_constraints(matrix, side):\n",
    "    matrix = np.array(matrix)\n",
    "    search_matrix = np.zeros_like(matrix, dtype=bool)\n",
    "    constraint_points = []\n",
    "\n",
    "    h, w = matrix.shape\n",
    "    ef_ss = (side - 1) // 2\n",
    "\n",
    "    # Find initial org point: 1 with only one neighboring 1\n",
    "    def count_neighbors(i, j):\n",
    "        count = 0\n",
    "        for dx in [-1, 0, 1]:\n",
    "            for dy in [-1, 0, 1]:\n",
    "                if dx == 0 and dy == 0:\n",
    "                    continue\n",
    "                ni, nj = i + dx, j + dy\n",
    "                if 0 <= ni < h and 0 <= nj < w:\n",
    "                    if matrix[ni, nj] == 1:\n",
    "                        count += 1\n",
    "        return count\n",
    "\n",
    "    org = None\n",
    "    for i in range(h):\n",
    "        for j in range(w):\n",
    "            if matrix[i, j] == 1 and count_neighbors(i, j) == 1:\n",
    "                org = (i, j)\n",
    "                break\n",
    "        if org:\n",
    "            break\n",
    "\n",
    "    if not org:\n",
    "        print(\"No suitable starting point found.\")\n",
    "        return constraint_points\n",
    "    \n",
    "    \n",
    "    constraint_points.append(org)\n",
    "\n",
    "    while True:\n",
    "        i, j = org\n",
    "        search_matrix[i, j] = True\n",
    "\n",
    "\n",
    "\n",
    "        # Search boundary points\n",
    "        found_next = False\n",
    "        for dx in [-ef_ss, ef_ss]:\n",
    "            for dy in range(-ef_ss, ef_ss + 1):\n",
    "                ni, nj = i + dx, j + dy\n",
    "                if 0 <= ni < h and 0 <= nj < w:\n",
    "                    if matrix[ni, nj] == 1 and not search_matrix[ni, nj]:\n",
    "                        constraint_points.append((ni, nj))\n",
    "                        org = (ni, nj)\n",
    "                        found_next = True\n",
    "                        break\n",
    "            if found_next:\n",
    "                break\n",
    "\n",
    "        if not found_next:\n",
    "            for dy in [-ef_ss, ef_ss]:\n",
    "                for dx in range(-ef_ss, ef_ss + 1):\n",
    "                    ni, nj = i + dx, j + dy\n",
    "                    if 0 <= ni < h and 0 <= nj < w:\n",
    "                        if matrix[ni, nj] == 1 and not search_matrix[ni, nj]:\n",
    "                            constraint_points.append((ni, nj))\n",
    "                            org = (ni, nj)\n",
    "                            found_next = True\n",
    "                            break\n",
    "                if found_next:\n",
    "                    break\n",
    "\n",
    "        if not found_next:\n",
    "            break  # No more points on boundary\n",
    "        \n",
    "                # Mark square of side\n",
    "        for dx in range(-ef_ss, ef_ss + 1):\n",
    "            for dy in range(-ef_ss, ef_ss + 1):\n",
    "                ni, nj = i + dx, j + dy\n",
    "                if 0 <= ni < h and 0 <= nj < w:\n",
    "                    search_matrix[ni, nj] = True\n",
    "\n",
    "    # Plotting\n",
    "    display_matrix = np.zeros((h, w, 3))  # RGB\n",
    "\n",
    "    for x, y in constraint_points:\n",
    "        display_matrix[x, y] = [1, 1, 1]  # white\n",
    "\n",
    "    display_matrix[display_matrix.sum(axis=2) == 0] = [0, 0, 0]  # black\n",
    "\n",
    "    plt.figure(figsize=(6, 6))\n",
    "    plt.imshow(display_matrix, interpolation='nearest')\n",
    "    plt.axis('off')\n",
    "    plt.show()\n",
    "\n",
    "    return constraint_points\n",
    "\n",
    "# matrix = [\n",
    "#     [0, 0, 0, 0, 0],\n",
    "#     [0, 1, 1, 1, 0],\n",
    "#     [0, 0, 0, 1, 0],\n",
    "#     [0, 0, 0, 1, 0],\n",
    "#     [0, 0, 0, 0, 0]\n",
    "# ]\n",
    "\n",
    "side = 10\n",
    "point_0 = find_path_constraints(path_0, side)\n",
    "point_1 = find_path_constraints(path_1, side)\n",
    "point_2 = find_path_constraints(path_2, side)\n",
    "\n",
    "# print(\"Constraint points:\", point_0)\n",
    "\n"
   ]
  },
  {
   "cell_type": "code",
   "execution_count": 8,
   "id": "b369b234",
   "metadata": {},
   "outputs": [
    {
     "data": {
      "image/png": "[encoded data removed]",
      "text/plain": [
       "<Figure size 640x480 with 1 Axes>"
      ]
     },
     "metadata": {},
     "output_type": "display_data"
    },
    {
     "data": {
      "image/png": "[encoded data removed]",
      "text/plain": [
       "<Figure size 640x480 with 1 Axes>"
      ]
     },
     "metadata": {},
     "output_type": "display_data"
    },
    {
     "data": {
      "image/png": "[encoded data removed]",
      "text/plain": [
       "<Figure size 640x480 with 1 Axes>"
      ]
     },
     "metadata": {},
     "output_type": "display_data"
    }
   ],
   "source": [
    "import numpy as np\n",
    "import matplotlib.pyplot as plt\n",
    "\n",
    "def bresenham_line(x0, y0, x1, y1):\n",
    "    \"\"\"Generate points on a line from (x0,y0) to (x1,y1) using Bresenham's algorithm.\"\"\"\n",
    "    points = []\n",
    "    dx = abs(x1 - x0)\n",
    "    dy = abs(y1 - y0)\n",
    "    sx = 1 if x0 < x1 else -1\n",
    "    sy = 1 if y0 < y1 else -1\n",
    "    err = dx - dy\n",
    "\n",
    "    while True:\n",
    "        points.append((x0, y0))\n",
    "        if x0 == x1 and y0 == y1:\n",
    "            break\n",
    "        e2 = 2 * err\n",
    "        if e2 > -dy:\n",
    "            err -= dy\n",
    "            x0 += sx\n",
    "        if e2 < dx:\n",
    "            err += dx\n",
    "            y0 += sy\n",
    "    return points\n",
    "\n",
    "def draw_lines_matrix(points, shape):\n",
    "    matrix = np.zeros(shape, dtype=np.uint8)\n",
    "\n",
    "    for i in range(len(points) - 1):\n",
    "        (x0, y0) = points[i]\n",
    "        (x1, y1) = points[i + 1]\n",
    "        line_points = bresenham_line(x0, y0, x1, y1)\n",
    "        for x, y in line_points:\n",
    "            if 0 <= x < shape[0] and 0 <= y < shape[1]:\n",
    "                matrix[x, y] = 1\n",
    "\n",
    "    plt.imshow(matrix, cmap='gray', interpolation='nearest')\n",
    "    plt.axis('off')\n",
    "    plt.show()\n",
    "\n",
    "    return matrix\n",
    "\n",
    "# points = [(2, 2), (7, 5), (7, 10), (2, 12)]\n",
    "# shape = (15, 15)\n",
    "\n",
    "smooth_0 = draw_lines_matrix(point_0, path_shape)\n",
    "smooth_1 = draw_lines_matrix(point_1, path_shape)\n",
    "smooth_2 = draw_lines_matrix(point_2, path_shape)\n",
    "# print(result_matrix)\n",
    "\n"
   ]
  },
  {
   "cell_type": "code",
   "execution_count": 9,
   "id": "6c946c0e",
   "metadata": {},
   "outputs": [
    {
     "ename": "IndexError",
     "evalue": "list index out of range",
     "output_type": "error",
     "traceback": [
      "\u001b[31m---------------------------------------------------------------------------\u001b[39m",
      "\u001b[31mIndexError\u001b[39m                                Traceback (most recent call last)",
      "\u001b[36mCell\u001b[39m\u001b[36m \u001b[39m\u001b[32mIn[9]\u001b[39m\u001b[32m, line 62\u001b[39m\n\u001b[32m     58\u001b[39m     \u001b[38;5;28;01mreturn\u001b[39;00m map_matrix\n\u001b[32m     61\u001b[39m origin_0 = point_0[\u001b[32m0\u001b[39m]\n\u001b[32m---> \u001b[39m\u001b[32m62\u001b[39m origin_1 = \u001b[43mpoint_1\u001b[49m\u001b[43m[\u001b[49m\u001b[32;43m0\u001b[39;49m\u001b[43m]\u001b[49m\n\u001b[32m     63\u001b[39m origin_2 = point_2[\u001b[32m0\u001b[39m]\n\u001b[32m     65\u001b[39m map_0 = trace_path(smooth_0,origin_0[\u001b[32m0\u001b[39m],origin_0[\u001b[32m1\u001b[39m],\u001b[32m0\u001b[39m)\n",
      "\u001b[31mIndexError\u001b[39m: list index out of range"
     ]
    }
   ],
   "source": [
    "import numpy as np\n",
    "\n",
    "def direc_flipper(direc):\n",
    "    direc = direc-1\n",
    "    direc = (direc+4) % 8\n",
    "    direc = direc+1\n",
    "\n",
    "    return direc\n",
    "\n",
    "def trace_path(matrix, start_i, start_j, line_type):\n",
    "    shape = matrix.shape\n",
    "    dtype = np.dtype([('flag', np.bool_), ('prev', np.uint16),\n",
    "                      ('succ', np.uint16), ('line_type', np.uint8)])\n",
    "    \n",
    "    map_matrix = np.full(shape, np.array((False, 0, 0, 3), dtype=dtype), dtype=dtype)\n",
    "    map_matrix[start_i, start_j]['flag'] = True\n",
    "    map_matrix[start_i, start_j]['line_type'] = line_type\n",
    "    \n",
    "    elem_array = [\n",
    "        (0, 0), (0, 1), (1, 1), (1, 0), (1, -1),\n",
    "        (0, -1), (-1, -1), (-1, 0), (-1, 1)\n",
    "    ]\n",
    "    \n",
    "    direc=0\n",
    "    prev_direc=0\n",
    "    \n",
    "    org_i, org_j = start_i, start_j\n",
    "    \n",
    "    while True:\n",
    "        found = False\n",
    "        for di, dj in elem_array[1:]:  # skip (0,0)\n",
    "            ni, nj = org_i + di, org_j + dj\n",
    "            if 0 <= ni < shape[0] and 0 <= nj < shape[1]:\n",
    "                if matrix[ni, nj] == 1 and not map_matrix[ni, nj]['flag']:\n",
    "                    # Mark successor direction\n",
    "                    direc = elem_array.index((di, dj))\n",
    "                    \n",
    "                    \n",
    "                    # Mark new point\n",
    "                    map_matrix[org_i, org_j]['flag'] = True\n",
    "                    map_matrix[org_i, org_j]['line_type'] = line_type\n",
    "                    map_matrix[org_i, org_j]['succ'] = direc\n",
    "                    map_matrix[org_i, org_j]['prev'] = prev_direc\n",
    "                    \n",
    "                    prev_direc=direc_flipper(direc)\n",
    "                    # Move origin\n",
    "                    org_i, org_j = ni, nj\n",
    "                    found = True\n",
    "                    break\n",
    "        if not found:\n",
    "            break\n",
    "        \n",
    "    map_matrix[org_i, org_j]['flag'] = True\n",
    "    map_matrix[org_i, org_j]['line_type'] = line_type\n",
    "    map_matrix[org_i, org_j]['succ'] = 0\n",
    "    map_matrix[org_i, org_j]['prev'] = prev_direc\n",
    "    \n",
    "    return map_matrix\n",
    "\n",
    "\n",
    "origin_0 = point_0[0]\n",
    "origin_1 = point_1[0]\n",
    "origin_2 = point_2[0]\n",
    "\n",
    "map_0 = trace_path(smooth_0,origin_0[0],origin_0[1],0)\n",
    "map_1 = trace_path(smooth_1,origin_1[0],origin_1[1],1)\n",
    "map_2 = trace_path(smooth_2,origin_2[0],origin_2[1],2)\n"
   ]
  },
  {
   "cell_type": "code",
   "execution_count": null,
   "id": "e8b5ca85",
   "metadata": {},
   "outputs": [
    {
     "data": {
      "image/png": "[encoded data removed]",
      "text/plain": [
       "<Figure size 640x480 with 1 Axes>"
      ]
     },
     "metadata": {},
     "output_type": "display_data"
    },
    {
     "data": {
      "image/png": "[encoded data removed]",
      "text/plain": [
       "<Figure size 640x480 with 1 Axes>"
      ]
     },
     "metadata": {},
     "output_type": "display_data"
    },
    {
     "data": {
      "image/png": "[encoded data removed]",
      "text/plain": [
       "<Figure size 640x480 with 1 Axes>"
      ]
     },
     "metadata": {},
     "output_type": "display_data"
    }
   ],
   "source": [
    "import numpy as np\n",
    "import matplotlib.pyplot as plt\n",
    "\n",
    "def display_colored_matrix(matrix):\n",
    "    \n",
    "    matrix = matrix = matrix.T[::-1]\n",
    "\n",
    "    shape = matrix.shape\n",
    "    color_matrix = np.zeros((shape[0], shape[1], 3))  # RGB image\n",
    "    \n",
    "    # Define colors for 0-9 (you can customize these)\n",
    "    color_list = [\n",
    "        [1.0, 0.0, 0.0],  # red\n",
    "        [1.0, 0.5, 0.0],  # orange-ish\n",
    "        [1.0, 1.0, 0.0],  # yellow\n",
    "        [0.5, 1.0, 0.0],  # yellow-green\n",
    "        [0.0, 1.0, 0.0],  # green\n",
    "        [0.0, 0.75, 0.25],\n",
    "        [0.0, 0.5, 0.5],\n",
    "        [0.0, 0.25, 0.75],\n",
    "        [0.0, 0.0, 1.0],  # blue\n",
    "        [0.0, 0.0, 1.0],  # blue (final)\n",
    "    ]\n",
    "\n",
    "\n",
    "    \n",
    "    for i in range(shape[0]):\n",
    "        for j in range(shape[1]):\n",
    "            flag, prev,succ,line_type = matrix[i, j]\n",
    "            if flag:\n",
    "                color_matrix[i, j] = color_list[succ % 10]\n",
    "            else:\n",
    "                color_matrix[i, j] = [0, 0, 0]  # black\n",
    "    \n",
    "    plt.imshow(color_matrix, interpolation='nearest')\n",
    "    plt.axis('off')\n",
    "    plt.show()\n",
    "    \n",
    "display_colored_matrix(map_0)\n",
    "display_colored_matrix(map_1)\n",
    "display_colored_matrix(map_2)"
   ]
  },
  {
   "cell_type": "code",
   "execution_count": null,
   "id": "e7e37cec",
   "metadata": {},
   "outputs": [
    {
     "data": {
      "image/png": "[encoded data removed]",
      "text/plain": [
       "<Figure size 640x480 with 1 Axes>"
      ]
     },
     "metadata": {},
     "output_type": "display_data"
    },
    {
     "name": "stdout",
     "output_type": "stream",
     "text": [
      "[(1.0, 1.9000000000000001), (1.8, 5.800000000000001), (10.200000000000001, 0.9)]\n"
     ]
    }
   ],
   "source": [
    "import numpy as np\n",
    "\n",
    "def combine_matrices(mat1, mat2, mat3):\n",
    "    shape = mat1.shape\n",
    "    dtype = mat1.dtype\n",
    "    combined = np.zeros(shape, dtype=dtype)\n",
    "    \n",
    "    default_value = (False, 0, 0, 3)\n",
    "\n",
    "    for i in range(shape[0]):\n",
    "        for j in range(shape[1]):\n",
    "            if mat1[i, j][0]:\n",
    "                combined[i, j] = mat1[i, j]\n",
    "            elif mat2[i, j][0]:\n",
    "                combined[i, j] = mat2[i, j]\n",
    "            elif mat3[i, j][0]:\n",
    "                combined[i, j] = mat3[i, j]\n",
    "            else:\n",
    "                combined[i, j] = default_value\n",
    "\n",
    "    return combined\n",
    "\n",
    "def index_to_point(ij, min_dist=0.1):\n",
    "    \n",
    "    i,j = ij[0],ij[1]\n",
    "\n",
    "    i, j = i*min_dist, j*min_dist\n",
    "\n",
    "    return (i, j)\n",
    "\n",
    "map_matrix = combine_matrices(map_0,map_1,map_2)\n",
    "display_colored_matrix(map_matrix)\n",
    "\n",
    "origin_0 = index_to_point(origin_0)\n",
    "origin_1 = index_to_point(origin_1)\n",
    "origin_2 = index_to_point(origin_2)\n",
    "\n",
    "origins=[origin_0,origin_1,origin_2]\n",
    "print(origins)"
   ]
  },
  {
   "cell_type": "code",
   "execution_count": null,
   "id": "683de0f0",
   "metadata": {},
   "outputs": [],
   "source": [
    "np.save('/mnt/Personal/Projects/Micromouse/Playground/map_images/matrix_file.npy', map_matrix)\n",
    "np.save('/mnt/Personal/Projects/Micromouse/Playground/map_images/origin_file.npy', origins)"
   ]
  }
 ],
 "metadata": {
  "kernelspec": {
   "display_name": "Python3_11",
   "language": "python",
   "name": "python3"
  },
  "language_info": {
   "codemirror_mode": {
    "name": "ipython",
    "version": 3
   },
   "file_extension": ".py",
   "mimetype": "text/x-python",
   "name": "python",
   "nbconvert_exporter": "python",
   "pygments_lexer": "ipython3",
   "version": "3.11.13"
  }
 },
 "nbformat": 4,
 "nbformat_minor": 5
}
